{
 "cells": [
  {
   "cell_type": "markdown",
   "metadata": {
    "colab_type": "text",
    "id": "8S1PhQVziOtB"
   },
   "source": [
    "***UNZIP THE IMOCAP DATASETS***"
   ]
  },
  {
   "cell_type": "markdown",
   "metadata": {
    "colab_type": "text",
    "id": "Y5rruwKFiX0x"
   },
   "source": [
    "*PREPROCESIING THE IMPCAP AUDIO FILES* : THANKS TO ***https://github.com/MITESHPUTHRANNEU/Speech-Emotion-Analyzer/blob/master/final_results_gender_test.ipynb  and https://github.com/david-yoon/multimodal-speech-emotion/blob/master/preprocessing/IEMOCAP_01_wav_to_feature.ipynb "
   ]
  },
  {
   "cell_type": "code",
   "execution_count": 1,
   "metadata": {
    "colab": {},
    "colab_type": "code",
    "id": "TmyifjHXii-K"
   },
   "outputs": [
    {
     "name": "stderr",
     "output_type": "stream",
     "text": [
      "/home/kovan2/anaconda3/envs/ser/lib/python3.10/site-packages/requests/__init__.py:109: RequestsDependencyWarning: urllib3 (1.26.9) or chardet (5.0.0)/charset_normalizer (2.0.4) doesn't match a supported version!\n",
      "  warnings.warn(\n"
     ]
    }
   ],
   "source": [
    "import librosa\n",
    "import librosa.display\n",
    "import numpy as np\n",
    "import matplotlib.pyplot as plt\n",
    "import pandas as pd\n",
    "from matplotlib.backend_bases import RendererBase\n",
    "from scipy import signal\n",
    "from scipy.io import wavfile\n",
    "import os\n",
    "from PIL import Image\n",
    "from scipy.fftpack import fft\n",
    "import torch\n",
    "import torch.nn as nn\n",
    "import torch.optim as optim\n",
    "import torch.nn.functional as F\n",
    "from torch.utils import data\n",
    "import torchvision.datasets as datasets\n",
    "import torchvision.transforms as transforms\n"
   ]
  },
  {
   "cell_type": "markdown",
   "metadata": {
    "colab_type": "text",
    "id": "6wan_pCAlZj7"
   },
   "source": [
    "**read the all the files in a list at sentence level**"
   ]
  },
  {
   "cell_type": "code",
   "execution_count": 2,
   "metadata": {
    "colab": {},
    "colab_type": "code",
    "id": "Kkcz86elmCv6"
   },
   "outputs": [],
   "source": [
    "import os\n",
    "import chardet\n",
    "\n",
    "def file_search(dirname, ret, list_avoid_dir=[]):\n",
    "    filenames = os.listdir(dirname)\n",
    "    \n",
    "    for filename in filenames:\n",
    "        full_filename = os.path.join(dirname, filename)\n",
    "\n",
    "        if os.path.isdir(full_filename) :\n",
    "            if full_filename.split('/')[-1] in list_avoid_dir:\n",
    "                continue\n",
    "            else:\n",
    "                file_search(full_filename, ret, list_avoid_dir)\n",
    "            \n",
    "        else:\n",
    "            ret.append( full_filename ) "
   ]
  },
  {
   "cell_type": "code",
   "execution_count": 3,
   "metadata": {
    "colab": {
     "base_uri": "https://localhost:8080/",
     "height": 101
    },
    "colab_type": "code",
    "id": "RToQ2If_lIbO",
    "outputId": "131b4e31-bd23-4e17-cd2f-b7d73118622b"
   },
   "outputs": [
    {
     "name": "stdout",
     "output_type": "stream",
     "text": [
      "Session1, #sum files: 1820\n",
      "Session2, #sum files: 3633\n",
      "Session3, #sum files: 5769\n",
      "Session4, #sum files: 7873\n",
      "Session5, #sum files: 10043\n"
     ]
    }
   ],
   "source": [
    "list_files = []\n",
    "for x in range(5):\n",
    "    sess_name = 'Session' + str(x+1)\n",
    "    path = '/home/kovan2/Desktop/ser/iemocap/IEMOCAP_full_release/'+ sess_name + '/sentences/wav/'\n",
    "    file_search(path, list_files)\n",
    "    list_files = sorted(list_files)\n",
    "    print (sess_name + \", #sum files: \" + str(len(list_files)))\n",
    "#extract_feature( list_files, out_file )"
   ]
  },
  {
   "cell_type": "markdown",
   "metadata": {
    "colab_type": "text",
    "id": "uKP6PwqvILJT"
   },
   "source": [
    "***below code is:***\n",
    "https://github.com/Escanor1996/Speech-Emotion-Recognition-SER-/blob/master/SER.ipynb\n",
    "\n",
    "***Paper:*** Attention Based Fully Convolutional Network for Speech Emotion Recognition\n"
   ]
  },
  {
   "cell_type": "code",
   "execution_count": 4,
   "metadata": {
    "colab": {},
    "colab_type": "code",
    "id": "788jVVFCH7vb"
   },
   "outputs": [],
   "source": [
    "def audio2spectrogram(filepath):\n",
    "    #fig = plt.figure(figsize=(5,5))\n",
    "    samplerate, test_sound  = wavfile.read(filepath,mmap=True)\n",
    "    #print('samplerate',samplerate)\n",
    "    _, spectrogram = log_specgram(test_sound, samplerate)\n",
    "    #print(spectrogram.shape)\n",
    "    #print(type(spectrogram))\n",
    "    #plt.imshow(spectrogram.T, aspect='auto', origin='lower')\n",
    "    return spectrogram\n",
    "    \n",
    "def audio2wave(filepath):\n",
    "    fig = plt.figure(figsize=(5,5))\n",
    "    samplerate, test_sound  = wavfile.read(filepath,mmap=True)\n",
    "    plt.plot(test_sound)"
   ]
  },
  {
   "cell_type": "code",
   "execution_count": 5,
   "metadata": {
    "colab": {},
    "colab_type": "code",
    "id": "jkiYHO6MH3Kr"
   },
   "outputs": [],
   "source": [
    "def log_specgram(audio, sample_rate, window_size=40,\n",
    "                 step_size=20, eps=1e-10):\n",
    "    nperseg = int(round(window_size * sample_rate / 1e3))\n",
    "    noverlap = int(round(step_size * sample_rate / 1e3))\n",
    "    #print('noverlap',noverlap)\n",
    "    #print('nperseg',nperseg)\n",
    "    freqs, _, spec = signal.spectrogram(audio,\n",
    "                                    fs=sample_rate,\n",
    "                                    window='hann',\n",
    "                                    nperseg=nperseg,\n",
    "                                    noverlap=noverlap,\n",
    "                                    detrend=False)\n",
    "    return freqs, np.log(spec.T.astype(np.float32) + eps)"
   ]
  },
  {
   "cell_type": "code",
   "execution_count": 6,
   "metadata": {
    "colab": {},
    "colab_type": "code",
    "id": "sv66rHV3pLkE"
   },
   "outputs": [],
   "source": [
    "N_CHANNELS = 3\n",
    "def get_3d_spec(Sxx_in, moments=None):\n",
    "    if moments is not None:\n",
    "        (base_mean, base_std, delta_mean, delta_std,\n",
    "             delta2_mean, delta2_std) = moments\n",
    "    else:\n",
    "        base_mean, delta_mean, delta2_mean = (0, 0, 0)\n",
    "        base_std, delta_std, delta2_std = (1, 1, 1)\n",
    "    h, w = Sxx_in.shape\n",
    "    right1 = np.concatenate([Sxx_in[:, 0].reshape((h, -1)), Sxx_in], axis=1)[:, :-1]\n",
    "    delta = (Sxx_in - right1)[:, 1:]\n",
    "    delta_pad = delta[:, 0].reshape((h, -1))\n",
    "    delta = np.concatenate([delta_pad, delta], axis=1)\n",
    "    right2 = np.concatenate([delta[:, 0].reshape((h, -1)), delta], axis=1)[:, :-1]\n",
    "    delta2 = (delta - right2)[:, 1:]\n",
    "    delta2_pad = delta2[:, 0].reshape((h, -1))\n",
    "    delta2 = np.concatenate([delta2_pad, delta2], axis=1)\n",
    "    base = (Sxx_in - base_mean) / base_std\n",
    "    delta = (delta - delta_mean) / delta_std\n",
    "    delta2 = (delta2 - delta2_mean) / delta2_std\n",
    "    stacked = [arr.reshape((h, w, 1)) for arr in (base, delta, delta2)]\n",
    "    return np.concatenate(stacked, axis=2)"
   ]
  },
  {
   "cell_type": "markdown",
   "metadata": {
    "colab_type": "text",
    "id": "DMNBRvIxRfUc"
   },
   "source": [
    "Spectrogram: one axis represents the time(X-axis), the second axis represents frequencies(Y-axis) and the colors represent magnitude (amplitude) of the observed frequency at a particular time"
   ]
  },
  {
   "cell_type": "markdown",
   "metadata": {
    "colab_type": "text",
    "id": "HCQegmJSYX-T"
   },
   "source": [
    "***read the processed transcription file to collect the labels***"
   ]
  },
  {
   "cell_type": "code",
   "execution_count": 7,
   "metadata": {
    "colab": {},
    "colab_type": "code",
    "id": "bmXOncwLSThg"
   },
   "outputs": [],
   "source": [
    "import pandas as pd\n",
    "df=pd.read_csv('/home/kovan2/Desktop/ser/iemocap/iemocap_full_dataset.csv')\n",
    "#filename=list_files[60].split('/')[-1].strip('.wav')\n",
    "#lable=df.loc[df['sessionID']==filename]['label'].values[0]\n",
    "#if(lable!=-1):"
   ]
  },
  {
   "cell_type": "code",
   "execution_count": 8,
   "metadata": {},
   "outputs": [
    {
     "name": "stdout",
     "output_type": "stream",
     "text": [
      "   session  method gender emotion  n_annotators  agreement  \\\n",
      "0        1  script      F     neu             3          3   \n",
      "1        1  script      F     fru             3          2   \n",
      "2        1  script      F     xxx             0          0   \n",
      "3        1  script      F     sur             3          2   \n",
      "4        1  script      F     neu             3          2   \n",
      "\n",
      "                                                path  \n",
      "0  Session1/sentences/wav/Ses01F_script02_1/Ses01...  \n",
      "1  Session1/sentences/wav/Ses01F_script02_1/Ses01...  \n",
      "2  Session1/sentences/wav/Ses01F_script02_1/Ses01...  \n",
      "3  Session1/sentences/wav/Ses01F_script02_1/Ses01...  \n",
      "4  Session1/sentences/wav/Ses01F_script02_1/Ses01...  \n"
     ]
    }
   ],
   "source": [
    "print(df.head())"
   ]
  },
  {
   "cell_type": "markdown",
   "metadata": {
    "colab_type": "text",
    "id": "atR-YPWjneVs"
   },
   "source": [
    "***EXTACT THE MFCC FEATURE USING LIBROSA***"
   ]
  },
  {
   "cell_type": "code",
   "execution_count": 9,
   "metadata": {},
   "outputs": [],
   "source": [
    "emotion_dict={'neu':3, 'fru':0, 'sad':2, 'sur':3, 'ang':0, 'hap':1, 'exc':1, 'fea':-1, 'dis':-1,'oth':-1,\"xxx\":-1}"
   ]
  },
  {
   "cell_type": "code",
   "execution_count": null,
   "metadata": {
    "colab": {},
    "colab_type": "code",
    "id": "vsY4d9gPm3lC"
   },
   "outputs": [],
   "source": [
    "no_rows=len(list_files)\n",
    "index=0\n",
    "sprectrogram_shape=[]\n",
    "docs = []\n",
    "bookmark=0\n",
    "extraLabel=0\n",
    "for everyFile in list_files:\n",
    "  if(everyFile.split('/')[-1].endswith('.wav')):\n",
    "    filename=\"/\".join(everyFile.split(\"/\")[7:])\n",
    "    print(filename)\n",
    "    lable=df.loc[df['path']==filename]['emotion'].values[0]\n",
    "    print('label',lable)\n",
    "    lable=emotion_dict[lable]\n",
    "    if(lable!=-1):\n",
    "      #sprectrogram_shape.append(audio2spectrogram(everyFile))\n",
    "      spector=audio2spectrogram(everyFile)\n",
    "      spector=get_3d_spec(spector)\n",
    "      npimg = np.transpose(spector,(2,0,1))\n",
    "      input_tensor=torch.tensor(npimg)\n",
    "      input_batch = input_tensor.unsqueeze(0) # create a mini-batch as expected by the model\n",
    "      #X, sample_rate = librosa.load(everyFile, res_type='kaiser_fast',sr=22050*2)\n",
    "      #sample_rate = np.array(sample_rate)\n",
    "      #mfccs = np.mean(librosa.feature.mfcc(y=X,sr=sample_rate,n_mfcc=13),axis=0)\n",
    "      #feature = mfccs\n",
    "      docs.append({\n",
    "         'fileName':everyFile.split('/')[-1].strip('.wav'),\n",
    "         #'feature_mfcc':feature,\n",
    "         'sprectrome':input_batch,\n",
    "         'label':lable\n",
    "              })\n",
    "      index+=1\n",
    "      print('index',index)\n",
    "    else:\n",
    "      extraLabel=extraLabel+1\n",
    "      print('extraLabel',extraLabel)"
   ]
  },
  {
   "cell_type": "markdown",
   "metadata": {
    "colab_type": "text",
    "id": "jPnKlxI1PSmO"
   },
   "source": [
    "***TestAlexNet input***"
   ]
  },
  {
   "cell_type": "code",
   "execution_count": 11,
   "metadata": {
    "colab": {},
    "colab_type": "code",
    "id": "Ij-TYGuMPcjZ"
   },
   "outputs": [],
   "source": [
    "import torch\n",
    "import torch.nn as nn\n",
    "#from .utils import load_state_dict_from_url\n",
    "from torch.hub import load_state_dict_from_url\n",
    "\n",
    "__all__ = ['AlexNet', 'alexnet']\n",
    "\n",
    "\n",
    "model_urls = {\n",
    "    'alexnet': 'https://download.pytorch.org/models/alexnet-owt-4df8aa71.pth',\n",
    "}\n",
    "\n",
    "\n",
    "class AlexNet(nn.Module):\n",
    "    def __init__(self, num_classes=1000):\n",
    "        super(AlexNet, self).__init__()\n",
    "        self.num_classes=num_classes\n",
    "        self.features = nn.Sequential(\n",
    "            nn.Conv2d(3, 64, kernel_size=11, stride=4, padding=2),\n",
    "            nn.ReLU(inplace=True),\n",
    "            nn.MaxPool2d(kernel_size=3, stride=2),\n",
    "            nn.Conv2d(64, 192, kernel_size=5, padding=2),\n",
    "            nn.ReLU(inplace=True),\n",
    "            nn.MaxPool2d(kernel_size=3, stride=2),\n",
    "            nn.Conv2d(192, 384, kernel_size=3, padding=1),\n",
    "            nn.ReLU(inplace=True),\n",
    "            nn.Conv2d(384, 256, kernel_size=3, padding=1),\n",
    "            nn.ReLU(inplace=True),\n",
    "            nn.Conv2d(256, 256, kernel_size=3, padding=1),\n",
    "            nn.ReLU(inplace=True),\n",
    "            nn.MaxPool2d(kernel_size=3, stride=2),\n",
    "        )\n",
    "        self.avgpool = nn.AdaptiveAvgPool2d((12, 12))\n",
    "        self.classifier = nn.Sequential(\n",
    "            nn.Dropout(),\n",
    "            nn.Linear(256 * 6 * 6, 4096),\n",
    "            nn.ReLU(inplace=True),\n",
    "            nn.Dropout(),\n",
    "            nn.Linear(4096, 4096),\n",
    "            nn.ReLU(inplace=True),\n",
    "            nn.Linear(4096, num_classes),\n",
    "        )\n",
    "\n",
    "    def forward(self, x):\n",
    "        x = self.features(x)\n",
    "        print('features',x.shape)\n",
    "        \n",
    "        #x = self.avgpool(x)\n",
    "        #print('avgpool',x.shape)\n",
    "        #x = torch.flatten(x, 1)\n",
    "        #print('flatten',x.shape)\n",
    "        #x = self.classifier(x)\n",
    "        return x\n",
    "def alexnet(pretrained=False, progress=True, **kwargs):\n",
    "    model = AlexNet(**kwargs)\n",
    "    if pretrained:\n",
    "        state_dict = load_state_dict_from_url(model_urls['alexnet'],\n",
    "                                              progress=progress)\n",
    "        model.load_state_dict(state_dict)\n",
    "    return model"
   ]
  },
  {
   "cell_type": "markdown",
   "metadata": {
    "colab_type": "text",
    "id": "-qClksYw-dtb"
   },
   "source": [
    "***MOdified AlexNet***"
   ]
  },
  {
   "cell_type": "code",
   "execution_count": 12,
   "metadata": {
    "colab": {},
    "colab_type": "code",
    "id": "0zQEjewO-hLS"
   },
   "outputs": [],
   "source": [
    "class ModifiedAlexNet(nn.Module):\n",
    "    def __init__(self, num_classes=4):\n",
    "        super(ModifiedAlexNet, self).__init__()\n",
    "        self.num_classes=num_classes\n",
    "        self.features = nn.Sequential(\n",
    "            nn.Conv2d(3, 64, kernel_size=11, stride=4, padding=2),\n",
    "            nn.ReLU(inplace=True),\n",
    "            nn.MaxPool2d(kernel_size=3, stride=2),\n",
    "            nn.Conv2d(64, 192, kernel_size=5, padding=2),\n",
    "            nn.ReLU(inplace=True),\n",
    "            nn.MaxPool2d(kernel_size=3, stride=2),\n",
    "            nn.Conv2d(192, 384, kernel_size=3, padding=1),\n",
    "            nn.ReLU(inplace=True),\n",
    "            nn.Conv2d(384, 256, kernel_size=3, padding=1),\n",
    "            nn.ReLU(inplace=True),\n",
    "            nn.Conv2d(256, 256, kernel_size=3, padding=1),\n",
    "            nn.ReLU(inplace=True),\n",
    "            nn.MaxPool2d(kernel_size=3, stride=2),\n",
    "        )\n",
    "        self.classifier = nn.Sequential(\n",
    "            nn.Dropout(0.5),\n",
    "            nn.Linear(256, num_classes),\n",
    "        )\n",
    "        self.softmax = nn.Softmax(dim=1)\n",
    "\n",
    "    def forward(self, x):\n",
    "        x = self.features(x)\n",
    "        #print('features',x.shape)\n",
    "        x=torch.flatten(x, start_dim=2)#a1,a2,a3......al{a of dim c} \n",
    "        x=torch.sum(x, dim=2)#a1*alpha1+a2*alpha2+.......+al*alphal\n",
    "        #print(x.shape)\n",
    "        x=self.classifier(x)\n",
    "        #print('classifier',x)\n",
    "        #x=self.softmax(x)\n",
    "        #print('softmax',x)\n",
    "        #x = self.avgpool(x)\n",
    "        #print('avgpool',x.shape)\n",
    "        #x = torch.flatten(x, 1)\n",
    "        #print('flatten',x.shape)\n",
    "        #x = self.classifier(x)\n",
    "        return x\n",
    "   \n",
    "def modifiedAlexNet(pretrained=False, progress=True, **kwargs):\n",
    "    model_modified = ModifiedAlexNet(**kwargs)\n",
    "    if pretrained:\n",
    "        state_dict = load_state_dict_from_url(model_urls['alexnet'],\n",
    "                                              progress=progress)\n",
    "        model_modified.load_state_dict(state_dict)\n",
    "    return model_modified"
   ]
  },
  {
   "cell_type": "markdown",
   "metadata": {
    "colab_type": "text",
    "id": "cBABecl_Gl9N"
   },
   "source": [
    "***create the Modified model instance and initiliaze with the pretraine d model***"
   ]
  },
  {
   "cell_type": "code",
   "execution_count": 13,
   "metadata": {
    "colab": {
     "base_uri": "https://localhost:8080/",
     "height": 386
    },
    "colab_type": "code",
    "id": "BsIPd9oBGvag",
    "outputId": "5cd3a187-7234-4f23-e930-34e1f30543bc"
   },
   "outputs": [
    {
     "data": {
      "text/plain": [
       "ModifiedAlexNet(\n",
       "  (features): Sequential(\n",
       "    (0): Conv2d(3, 64, kernel_size=(11, 11), stride=(4, 4), padding=(2, 2))\n",
       "    (1): ReLU(inplace=True)\n",
       "    (2): MaxPool2d(kernel_size=3, stride=2, padding=0, dilation=1, ceil_mode=False)\n",
       "    (3): Conv2d(64, 192, kernel_size=(5, 5), stride=(1, 1), padding=(2, 2))\n",
       "    (4): ReLU(inplace=True)\n",
       "    (5): MaxPool2d(kernel_size=3, stride=2, padding=0, dilation=1, ceil_mode=False)\n",
       "    (6): Conv2d(192, 384, kernel_size=(3, 3), stride=(1, 1), padding=(1, 1))\n",
       "    (7): ReLU(inplace=True)\n",
       "    (8): Conv2d(384, 256, kernel_size=(3, 3), stride=(1, 1), padding=(1, 1))\n",
       "    (9): ReLU(inplace=True)\n",
       "    (10): Conv2d(256, 256, kernel_size=(3, 3), stride=(1, 1), padding=(1, 1))\n",
       "    (11): ReLU(inplace=True)\n",
       "    (12): MaxPool2d(kernel_size=3, stride=2, padding=0, dilation=1, ceil_mode=False)\n",
       "  )\n",
       "  (classifier): Sequential(\n",
       "    (0): Dropout(p=0.5, inplace=False)\n",
       "    (1): Linear(in_features=256, out_features=4, bias=True)\n",
       "  )\n",
       "  (softmax): Softmax(dim=1)\n",
       ")"
      ]
     },
     "execution_count": 13,
     "metadata": {},
     "output_type": "execute_result"
    }
   ],
   "source": [
    "original_model=alexnet(pretrained=True)\n",
    "original_dict = original_model.state_dict()\n",
    "modifiedAlexNet=modifiedAlexNet(pretrained=False)\n",
    "modified_model_dict = modifiedAlexNet.state_dict()\n",
    "pretrained_modified_model_dict = {k: v for k, v in original_dict.items() if k in modified_model_dict}\n",
    "modifiedAlexNet.to('cuda')"
   ]
  },
  {
   "cell_type": "markdown",
   "metadata": {
    "colab_type": "text",
    "id": "3ObB4bOBPmA2"
   },
   "source": [
    "***Input code to AlexNet with Audio Files***"
   ]
  },
  {
   "cell_type": "code",
   "execution_count": 14,
   "metadata": {
    "colab": {
     "base_uri": "https://localhost:8080/",
     "height": 34
    },
    "colab_type": "code",
    "id": "BQxmqNSyTWnr",
    "outputId": "0aa1f7c2-e9a3-4633-f7af-e215a86c3a43"
   },
   "outputs": [
    {
     "name": "stdout",
     "output_type": "stream",
     "text": [
      "tensor([[-5.3628, -0.2409, -0.1148, -1.2075]], device='cuda:0')\n"
     ]
    }
   ],
   "source": [
    "x=audio2spectrogram(list_files[40])\n",
    "x=get_3d_spec(x)\n",
    "npimg = np.transpose(x,(2,0,1))\n",
    "input_tensor=torch.tensor(npimg)\n",
    "\n",
    "input_batch = input_tensor.unsqueeze(0) # create a mini-batch as expected by the model\n",
    "if torch.cuda.is_available():\n",
    "    input_batch = input_batch.to('cuda')\n",
    "    modifiedAlexNet.to('cuda')\n",
    "with torch.no_grad():\n",
    "    output = modifiedAlexNet(input_batch)\n",
    "    #output.squeeze().shape\n",
    "    #output=torch.flatten(output, start_dim=2)\n",
    "    #print(output.shape)\n",
    "    #output=torch.sum(output, dim=2)\n",
    "    print(output)"
   ]
  },
  {
   "cell_type": "markdown",
   "metadata": {
    "colab_type": "text",
    "id": "SfT1DDnLQg1b"
   },
   "source": [
    "***Inputdata schuffling and deviding the data***"
   ]
  },
  {
   "cell_type": "code",
   "execution_count": 15,
   "metadata": {
    "colab": {
     "base_uri": "https://localhost:8080/",
     "height": 50
    },
    "colab_type": "code",
    "id": "q7JZNzX9QvM3",
    "outputId": "9ad46ee4-1d1d-4b2a-9bf4-e180dd50465a"
   },
   "outputs": [
    {
     "name": "stdout",
     "output_type": "stream",
     "text": [
      "no of items for train  6738\n",
      "no of items for test  749\n"
     ]
    }
   ],
   "source": [
    "import random\n",
    "random.shuffle(docs)\n",
    "random.shuffle(docs)\n",
    "random.shuffle(docs)\n",
    "total_length=len(docs)\n",
    "train_length=int(.9*total_length)\n",
    "train_list=docs[0:train_length]\n",
    "test_list=docs[train_length:]\n",
    "print('no of items for train ',len(train_list))\n",
    "print('no of items for test ',len(test_list))"
   ]
  },
  {
   "cell_type": "markdown",
   "metadata": {
    "colab_type": "text",
    "id": "3k1pQ5INTvrm"
   },
   "source": [
    "***Plot Training loss and Accuracy***"
   ]
  },
  {
   "cell_type": "code",
   "execution_count": 16,
   "metadata": {
    "colab": {
     "base_uri": "https://localhost:8080/",
     "height": 871
    },
    "colab_type": "code",
    "id": "b1mv-uS-T2Mo",
    "outputId": "b9713c74-8b8b-418c-f9f9-f48e471e0980"
   },
   "outputs": [
    {
     "data": {
      "text/html": [
       "\n",
       "      <iframe id=\"tensorboard-frame-a98cda4b18043a51\" width=\"100%\" height=\"800\" frameborder=\"0\">\n",
       "      </iframe>\n",
       "      <script>\n",
       "        (function() {\n",
       "          const frame = document.getElementById(\"tensorboard-frame-a98cda4b18043a51\");\n",
       "          const url = new URL(\"/\", window.location);\n",
       "          const port = 6006;\n",
       "          if (port) {\n",
       "            url.port = port;\n",
       "          }\n",
       "          frame.src = url;\n",
       "        })();\n",
       "      </script>\n",
       "    "
      ],
      "text/plain": [
       "<IPython.core.display.HTML object>"
      ]
     },
     "metadata": {},
     "output_type": "display_data"
    }
   ],
   "source": [
    "%load_ext tensorboard\n",
    "%tensorboard --logdir ./"
   ]
  },
  {
   "cell_type": "markdown",
   "metadata": {
    "colab_type": "text",
    "id": "EwgNOF5oK-JV"
   },
   "source": [
    "***Model Parameter***"
   ]
  },
  {
   "cell_type": "code",
   "execution_count": 17,
   "metadata": {
    "colab": {
     "base_uri": "https://localhost:8080/",
     "height": 218
    },
    "colab_type": "code",
    "id": "gzWnvXf5LCIU",
    "outputId": "12e2f481-95ed-473e-ebce-25b6474665af"
   },
   "outputs": [
    {
     "name": "stdout",
     "output_type": "stream",
     "text": [
      "features.0.weight\n",
      "features.0.bias\n",
      "features.3.weight\n",
      "features.3.bias\n",
      "features.6.weight\n",
      "features.6.bias\n",
      "features.8.weight\n",
      "features.8.bias\n",
      "features.10.weight\n",
      "features.10.bias\n",
      "classifier.1.weight\n",
      "classifier.1.bias\n"
     ]
    }
   ],
   "source": [
    "for name, param in modifiedAlexNet.named_parameters():\n",
    "      if(param.requires_grad):\n",
    "        print(name)\n",
    "      else:\n",
    "        print('no grad',name)"
   ]
  },
  {
   "cell_type": "markdown",
   "metadata": {
    "colab_type": "text",
    "id": "JoSuRA4cKeSy"
   },
   "source": [
    "***optimizer***"
   ]
  },
  {
   "cell_type": "code",
   "execution_count": 18,
   "metadata": {
    "colab": {},
    "colab_type": "code",
    "id": "-_BAUU5kKhAs"
   },
   "outputs": [
    {
     "name": "stderr",
     "output_type": "stream",
     "text": [
      "/home/kovan2/anaconda3/envs/ser/lib/python3.10/site-packages/transformers/optimization.py:306: FutureWarning: This implementation of AdamW is deprecated and will be removed in a future version. Use the PyTorch implementation torch.optim.AdamW instead, or set `no_deprecation_warning=True` to disable this warning\n",
      "  warnings.warn(\n"
     ]
    }
   ],
   "source": [
    "import torch.optim as optim\n",
    "from transformers import AdamW\n",
    "criterion = nn.CrossEntropyLoss()\n",
    "optimizer = AdamW(modifiedAlexNet.parameters(),\n",
    "                  lr =  2e-4, \n",
    "                  eps = 1e-8\n",
    "                )\n",
    "from transformers import get_linear_schedule_with_warmup\n",
    "\n",
    "NUM_EPOCHS=150\n",
    "\n",
    "writer = SummaryWriter(log_dir='/home/kovan2/Desktop/ser/Audio-and-text-based-emotion-recognition-master')\n",
    "total_steps = len(train_list) * NUM_EPOCHS\n",
    "\n",
    "# Create the learning rate scheduler.\n",
    "scheduler = get_linear_schedule_with_warmup(optimizer, \n",
    "                                            num_warmup_steps = 0, # Default value in run_glue.py\n",
    "                                            num_training_steps = total_steps)\n"
   ]
  },
  {
   "cell_type": "markdown",
   "metadata": {
    "colab_type": "text",
    "id": "yYFow8ZlQB67"
   },
   "source": [
    "***Training Loop***"
   ]
  },
  {
   "cell_type": "code",
   "execution_count": 19,
   "metadata": {
    "colab": {},
    "colab_type": "code",
    "id": "1Hj8xc3LQFDi"
   },
   "outputs": [
    {
     "name": "stdout",
     "output_type": "stream",
     "text": [
      "Epoch: 1 \tStep: 6484 \tLoss: 2.0170 \tAcc: 43.232413178984864\n",
      "Epoch: 2 \tStep: 12967 \tLoss: 1.8518 \tAcc: 46.82398337785693\n",
      "Epoch: 3 \tStep: 19450 \tLoss: 1.7682 \tAcc: 47.23953695458593\n",
      "Epoch: 4 \tStep: 25933 \tLoss: 1.7560 \tAcc: 48.73849807064411\n",
      "Epoch: 5 \tStep: 32416 \tLoss: 1.7534 \tAcc: 50.074205995844466\n",
      "Epoch: 6 \tStep: 38899 \tLoss: 1.7032 \tAcc: 51.33570792520036\n",
      "Epoch: 7 \tStep: 45382 \tLoss: 1.7063 \tAcc: 53.36895221133867\n",
      "Epoch: 8 \tStep: 51865 \tLoss: 1.7925 \tAcc: 55.63965568417928\n",
      "Epoch: 9 \tStep: 58348 \tLoss: 1.7279 \tAcc: 59.11249628970021\n",
      "Epoch: 10 \tStep: 64831 \tLoss: 1.6860 \tAcc: 61.308993766696354\n",
      "Epoch: 11 \tStep: 71314 \tLoss: 1.6579 \tAcc: 63.579697239536955\n",
      "Epoch: 12 \tStep: 77797 \tLoss: 1.5942 \tAcc: 67.4384090234491\n",
      "Epoch: 13 \tStep: 84280 \tLoss: 1.5524 \tAcc: 70.28791926387652\n",
      "Epoch: 14 \tStep: 90763 \tLoss: 1.4766 \tAcc: 73.73107747105966\n",
      "Epoch: 15 \tStep: 97246 \tLoss: 1.4089 \tAcc: 76.00178094390027\n",
      "Epoch: 16 \tStep: 103729 \tLoss: 1.3090 \tAcc: 78.4060552092609\n",
      "Epoch: 17 \tStep: 110212 \tLoss: 1.3189 \tAcc: 79.99406352033245\n",
      "Epoch: 18 \tStep: 116695 \tLoss: 1.1872 \tAcc: 81.84921341644404\n",
      "Epoch: 19 \tStep: 123178 \tLoss: 1.1901 \tAcc: 83.25912733748886\n",
      "Epoch: 20 \tStep: 129661 \tLoss: 1.1263 \tAcc: 84.32769367764915\n",
      "Epoch: 21 \tStep: 136144 \tLoss: 1.0830 \tAcc: 85.455624814485\n",
      "Epoch: 22 \tStep: 142627 \tLoss: 0.9714 \tAcc: 86.5241911546453\n",
      "Epoch: 23 \tStep: 149110 \tLoss: 0.9901 \tAcc: 86.98426832888097\n",
      "Epoch: 24 \tStep: 155593 \tLoss: 0.9523 \tAcc: 88.21608785989909\n",
      "Epoch: 25 \tStep: 162076 \tLoss: 0.9247 \tAcc: 88.1715642623924\n",
      "Epoch: 26 \tStep: 168559 \tLoss: 0.9006 \tAcc: 89.25497180172158\n",
      "Epoch: 27 \tStep: 175042 \tLoss: 0.9227 \tAcc: 88.75037102997922\n",
      "Epoch: 28 \tStep: 181525 \tLoss: 0.9363 \tAcc: 89.12140100920153\n",
      "Epoch: 29 \tStep: 188008 \tLoss: 0.8853 \tAcc: 89.68536657761948\n",
      "Epoch: 30 \tStep: 194491 \tLoss: 0.8301 \tAcc: 90.2344909468685\n",
      "Epoch: 31 \tStep: 200974 \tLoss: 0.8329 \tAcc: 90.70940932027308\n",
      "Epoch: 32 \tStep: 207457 \tLoss: 0.7819 \tAcc: 90.59067972692193\n",
      "Epoch: 33 \tStep: 213940 \tLoss: 0.7608 \tAcc: 91.06559810032651\n",
      "Epoch: 34 \tStep: 220423 \tLoss: 0.7677 \tAcc: 91.00623330365093\n",
      "Epoch: 35 \tStep: 226906 \tLoss: 0.7650 \tAcc: 91.19916889284654\n",
      "Epoch: 36 \tStep: 233389 \tLoss: 0.7274 \tAcc: 91.64440486791334\n",
      "Epoch: 37 \tStep: 239872 \tLoss: 0.8537 \tAcc: 91.73345206292667\n",
      "Epoch: 38 \tStep: 246355 \tLoss: 0.6443 \tAcc: 91.94122885129119\n",
      "Epoch: 39 \tStep: 252838 \tLoss: 0.6519 \tAcc: 92.3122588305135\n",
      "Epoch: 40 \tStep: 259321 \tLoss: 0.6512 \tAcc: 91.85218165627784\n",
      "Epoch: 41 \tStep: 265804 \tLoss: 0.5333 \tAcc: 92.5348768180469\n",
      "Epoch: 42 \tStep: 272287 \tLoss: 0.7102 \tAcc: 92.52003561887801\n",
      "Epoch: 43 \tStep: 278770 \tLoss: 0.6912 \tAcc: 92.56455921638468\n",
      "Epoch: 44 \tStep: 285253 \tLoss: 0.4924 \tAcc: 92.59424161472248\n",
      "Epoch: 45 \tStep: 291736 \tLoss: 0.5383 \tAcc: 92.90590679726922\n",
      "Epoch: 46 \tStep: 298219 \tLoss: 0.5203 \tAcc: 93.11368358563372\n",
      "Epoch: 47 \tStep: 304702 \tLoss: 0.5523 \tAcc: 93.15820718314039\n",
      "Epoch: 48 \tStep: 311185 \tLoss: 0.6082 \tAcc: 93.02463639062036\n",
      "Epoch: 49 \tStep: 317668 \tLoss: 0.4972 \tAcc: 93.42534876818047\n",
      "Epoch: 50 \tStep: 324151 \tLoss: 0.6152 \tAcc: 93.12852478480261\n",
      "Epoch: 51 \tStep: 330634 \tLoss: 0.5034 \tAcc: 93.39566636984267\n",
      "Epoch: 52 \tStep: 337117 \tLoss: 0.4586 \tAcc: 93.60344315820718\n",
      "Epoch: 53 \tStep: 343600 \tLoss: 0.5763 \tAcc: 93.21757197981597\n",
      "Epoch: 54 \tStep: 350083 \tLoss: 0.5218 \tAcc: 93.46987236568715\n",
      "Epoch: 55 \tStep: 356566 \tLoss: 0.4715 \tAcc: 93.72217275155833\n",
      "Epoch: 56 \tStep: 363049 \tLoss: 0.3889 \tAcc: 93.7815375482339\n",
      "Epoch: 57 \tStep: 369532 \tLoss: 0.5140 \tAcc: 93.5589195607005\n",
      "Epoch: 58 \tStep: 376015 \tLoss: 0.3975 \tAcc: 93.81121994657168\n",
      "Epoch: 59 \tStep: 382498 \tLoss: 0.5068 \tAcc: 94.06352033244286\n",
      "Epoch: 60 \tStep: 388981 \tLoss: 0.4431 \tAcc: 94.01899673493618\n",
      "Epoch: 61 \tStep: 395464 \tLoss: 0.4309 \tAcc: 93.91510834075393\n",
      "Epoch: 62 \tStep: 401947 \tLoss: 0.4555 \tAcc: 94.09320273078065\n",
      "Epoch: 63 \tStep: 408430 \tLoss: 0.3799 \tAcc: 94.1970911249629\n",
      "Epoch: 64 \tStep: 414913 \tLoss: 0.4318 \tAcc: 94.06352033244286\n",
      "Epoch: 65 \tStep: 421396 \tLoss: 0.4016 \tAcc: 94.01899673493618\n",
      "Epoch: 66 \tStep: 427879 \tLoss: 0.3664 \tAcc: 94.31582071831403\n",
      "Epoch: 67 \tStep: 434362 \tLoss: 0.4263 \tAcc: 94.03383793410508\n",
      "Epoch: 68 \tStep: 440845 \tLoss: 0.2869 \tAcc: 94.62748590086079\n",
      "Epoch: 69 \tStep: 447328 \tLoss: 0.3765 \tAcc: 94.55327990501632\n",
      "Epoch: 70 \tStep: 453811 \tLoss: 0.4290 \tAcc: 94.21193232413178\n",
      "Epoch: 71 \tStep: 460294 \tLoss: 0.3016 \tAcc: 94.73137429504304\n",
      "Epoch: 72 \tStep: 466777 \tLoss: 0.4349 \tAcc: 94.27129712080736\n",
      "Epoch: 73 \tStep: 473260 \tLoss: 0.2857 \tAcc: 94.82042149005639\n",
      "Epoch: 74 \tStep: 479743 \tLoss: 0.3321 \tAcc: 94.67200949836747\n",
      "Epoch: 75 \tStep: 486226 \tLoss: 0.3190 \tAcc: 94.61264470169189\n",
      "Epoch: 76 \tStep: 492709 \tLoss: 0.3665 \tAcc: 94.53843870584743\n",
      "Epoch: 77 \tStep: 499192 \tLoss: 0.3463 \tAcc: 94.68685069753636\n",
      "Epoch: 78 \tStep: 505675 \tLoss: 0.2963 \tAcc: 94.82042149005639\n",
      "Epoch: 79 \tStep: 512158 \tLoss: 0.2817 \tAcc: 94.86494508756309\n",
      "Epoch: 80 \tStep: 518641 \tLoss: 0.2950 \tAcc: 94.76105669338082\n",
      "Epoch: 81 \tStep: 525124 \tLoss: 0.2552 \tAcc: 94.87978628673197\n",
      "Epoch: 82 \tStep: 531607 \tLoss: 0.2873 \tAcc: 94.93915108340754\n",
      "Epoch: 83 \tStep: 538090 \tLoss: 0.1938 \tAcc: 95.07272187592758\n",
      "Epoch: 84 \tStep: 544573 \tLoss: 0.2958 \tAcc: 95.04303947758979\n",
      "Epoch: 85 \tStep: 551056 \tLoss: 0.2396 \tAcc: 95.11724547343425\n",
      "Epoch: 86 \tStep: 557539 \tLoss: 0.2836 \tAcc: 94.98367468091422\n",
      "Epoch: 87 \tStep: 564022 \tLoss: 0.2520 \tAcc: 95.13208667260315\n",
      "Epoch: 88 \tStep: 570505 \tLoss: 0.2209 \tAcc: 95.26565746512318\n",
      "Epoch: 89 \tStep: 576988 \tLoss: 0.2318 \tAcc: 95.14692787177204\n",
      "Epoch: 90 \tStep: 583471 \tLoss: 0.2248 \tAcc: 95.11724547343425\n",
      "Epoch: 91 \tStep: 589954 \tLoss: 0.2381 \tAcc: 95.28049866429208\n",
      "Epoch: 92 \tStep: 596437 \tLoss: 0.2953 \tAcc: 95.14692787177204\n",
      "Epoch: 93 \tStep: 602920 \tLoss: 0.1739 \tAcc: 95.47343425348768\n",
      "Epoch: 94 \tStep: 609403 \tLoss: 0.2342 \tAcc: 95.20629266844762\n",
      "Epoch: 95 \tStep: 615886 \tLoss: 0.1413 \tAcc: 95.48827545265658\n",
      "Epoch: 96 \tStep: 622369 \tLoss: 0.2533 \tAcc: 95.2359750667854\n",
      "Epoch: 97 \tStep: 628852 \tLoss: 0.1951 \tAcc: 95.4437518551499\n",
      "Epoch: 98 \tStep: 635335 \tLoss: 0.1172 \tAcc: 95.53279905016325\n",
      "Epoch: 99 \tStep: 641818 \tLoss: 0.1905 \tAcc: 95.35470466013653\n",
      "Epoch: 100 \tStep: 648301 \tLoss: 0.3276 \tAcc: 95.50311665182547\n",
      "Epoch: 101 \tStep: 654784 \tLoss: 0.2158 \tAcc: 95.53279905016325\n",
      "Epoch: 102 \tStep: 661267 \tLoss: 0.1392 \tAcc: 95.59216384683883\n",
      "Epoch: 103 \tStep: 667750 \tLoss: 0.1188 \tAcc: 95.71089344018998\n",
      "Epoch: 104 \tStep: 674233 \tLoss: 0.0917 \tAcc: 95.75541703769665\n",
      "Epoch: 105 \tStep: 680716 \tLoss: 0.1407 \tAcc: 95.6366874443455\n",
      "Epoch: 106 \tStep: 687199 \tLoss: 0.0771 \tAcc: 95.69605224102108\n",
      "Epoch: 107 \tStep: 693682 \tLoss: 0.1295 \tAcc: 95.77025823686553\n",
      "Epoch: 108 \tStep: 700165 \tLoss: 0.1102 \tAcc: 95.71089344018998\n",
      "Epoch: 109 \tStep: 706648 \tLoss: 0.0865 \tAcc: 95.72573463935886\n",
      "Epoch: 110 \tStep: 713131 \tLoss: 0.1421 \tAcc: 95.69605224102108\n",
      "Epoch: 111 \tStep: 719614 \tLoss: 0.1207 \tAcc: 95.79994063520333\n",
      "Epoch: 112 \tStep: 726097 \tLoss: 0.1325 \tAcc: 95.71089344018998\n",
      "Epoch: 113 \tStep: 732580 \tLoss: 0.0928 \tAcc: 95.78509943603443\n",
      "Epoch: 114 \tStep: 739063 \tLoss: 0.1315 \tAcc: 95.77025823686553\n",
      "Epoch: 115 \tStep: 745546 \tLoss: 0.1707 \tAcc: 95.90382902938558\n",
      "Epoch: 116 \tStep: 752029 \tLoss: 0.1414 \tAcc: 95.6515286435144\n",
      "Epoch: 117 \tStep: 758512 \tLoss: 0.0403 \tAcc: 95.88898783021668\n",
      "Epoch: 118 \tStep: 764995 \tLoss: 0.0677 \tAcc: 95.90382902938558\n",
      "Epoch: 119 \tStep: 771478 \tLoss: 0.0802 \tAcc: 95.88898783021668\n",
      "Epoch: 120 \tStep: 777961 \tLoss: 0.0743 \tAcc: 95.84446423271001\n",
      "Epoch: 121 \tStep: 784444 \tLoss: 0.0519 \tAcc: 95.99287622439893\n",
      "Epoch: 122 \tStep: 790927 \tLoss: 0.0519 \tAcc: 95.94835262689226\n",
      "Epoch: 123 \tStep: 797410 \tLoss: 0.0703 \tAcc: 95.99287622439893\n",
      "Epoch: 124 \tStep: 803893 \tLoss: 0.0834 \tAcc: 95.90382902938558\n",
      "Epoch: 125 \tStep: 810376 \tLoss: 0.0338 \tAcc: 96.08192341941229\n",
      "Epoch: 126 \tStep: 816859 \tLoss: 0.0822 \tAcc: 95.94835262689226\n",
      "Epoch: 127 \tStep: 823342 \tLoss: 0.0674 \tAcc: 96.06708222024339\n",
      "Epoch: 128 \tStep: 829825 \tLoss: 0.0447 \tAcc: 96.06708222024339\n",
      "Epoch: 129 \tStep: 836308 \tLoss: 0.0388 \tAcc: 96.05224102107451\n",
      "Epoch: 130 \tStep: 842791 \tLoss: 0.0270 \tAcc: 96.05224102107451\n",
      "Epoch: 131 \tStep: 849274 \tLoss: 0.0294 \tAcc: 96.06708222024339\n",
      "Epoch: 132 \tStep: 855757 \tLoss: 0.0519 \tAcc: 96.08192341941229\n",
      "Epoch: 133 \tStep: 862240 \tLoss: 0.0553 \tAcc: 96.03739982190561\n"
     ]
    },
    {
     "name": "stdout",
     "output_type": "stream",
     "text": [
      "Epoch: 134 \tStep: 868723 \tLoss: 0.0043 \tAcc: 96.17097061442564\n",
      "Epoch: 135 \tStep: 875206 \tLoss: 0.0028 \tAcc: 96.17097061442564\n",
      "Epoch: 136 \tStep: 881689 \tLoss: 0.0135 \tAcc: 96.14128821608786\n",
      "Epoch: 137 \tStep: 888172 \tLoss: 0.0481 \tAcc: 96.09676461858118\n",
      "Epoch: 138 \tStep: 894655 \tLoss: 0.0544 \tAcc: 96.12644701691897\n",
      "Epoch: 139 \tStep: 901138 \tLoss: 0.0028 \tAcc: 96.14128821608786\n",
      "Epoch: 140 \tStep: 907621 \tLoss: 0.0010 \tAcc: 96.20065301276342\n",
      "Epoch: 141 \tStep: 914104 \tLoss: 0.0027 \tAcc: 96.20065301276342\n",
      "Epoch: 142 \tStep: 920587 \tLoss: 0.0017 \tAcc: 96.18581181359454\n",
      "Epoch: 143 \tStep: 927070 \tLoss: 0.0058 \tAcc: 96.18581181359454\n",
      "Epoch: 144 \tStep: 933553 \tLoss: 0.0091 \tAcc: 96.15612941525676\n",
      "Epoch: 145 \tStep: 940036 \tLoss: 0.0041 \tAcc: 96.18581181359454\n",
      "Epoch: 146 \tStep: 946519 \tLoss: 0.0022 \tAcc: 96.20065301276342\n",
      "Epoch: 147 \tStep: 953002 \tLoss: 0.0046 \tAcc: 96.18581181359454\n",
      "Epoch: 148 \tStep: 959485 \tLoss: 0.0004 \tAcc: 96.20065301276342\n",
      "Epoch: 149 \tStep: 965968 \tLoss: 0.0000 \tAcc: 96.21549421193232\n",
      "Epoch: 150 \tStep: 972451 \tLoss: 0.0000 \tAcc: 96.21549421193232\n"
     ]
    }
   ],
   "source": [
    "total_steps = 1\n",
    "losses=[]\n",
    "accuracies=[]\n",
    "\n",
    "seed_val = 42\n",
    "\n",
    "random.seed(seed_val)\n",
    "np.random.seed(seed_val)\n",
    "torch.manual_seed(seed_val)\n",
    "torch.cuda.manual_seed_all(seed_val)\n",
    "\n",
    "\n",
    "for epoch in range(NUM_EPOCHS):\n",
    "  modifiedAlexNet.train()\n",
    "  running_loss=0\n",
    "  total_acc=0\n",
    "  accuracy=0\n",
    "  loss=0\n",
    "  for every_trainlist in train_list:\n",
    "    label1=every_trainlist['label']\n",
    "    label1=torch.tensor([label1])\n",
    "    sprectrome=every_trainlist['sprectrome']\n",
    "    if(sprectrome.shape[2]>65):\n",
    "      optimizer.zero_grad()\n",
    "      sprectrome = sprectrome.to('cuda')\n",
    "      label1=label1.to('cuda')\n",
    "      modifiedAlexNet.zero_grad()\n",
    "      output = modifiedAlexNet(sprectrome)\n",
    "      #print('softmax output ',output)\n",
    "      loss = criterion(output, label1)\n",
    "      #print('label1',label1)\n",
    "      #print('loss',loss.item())\n",
    "      running_loss+=loss.item()\n",
    "      loss.backward()\n",
    "      torch.nn.utils.clip_grad_norm_(modifiedAlexNet.parameters(), 1.0)\n",
    "      optimizer.step()\n",
    "      scheduler.step()\n",
    "      _, preds = torch.max(output, 1)\n",
    "      total_acc+= torch.sum(preds == label1)\n",
    "      #print('accuracy.item()',accuracy.item())\n",
    "      #print('preds',preds)\n",
    "      #if total_steps % 10 == 0:\n",
    "      #  with torch.no_grad():\n",
    "      #    _, preds = torch.max(output, 1)\n",
    "      #    accuracy = torch.sum(preds == label1)\n",
    "      #    print('Epoch: {} \\tStep: {} \\tLoss: {:.4f} \\tAcc: {}'.format(epoch + 1, total_steps, loss.item(), accuracy.item()))\n",
    "      #    writer.add_scalar('loss', loss.item(), total_steps)\n",
    "      #    writer.add_scalar('accuracy', accuracy.item(), total_steps)                     \n",
    "      total_steps+=1\n",
    "  loss=running_loss/len(train_list)\n",
    "  accuracy=total_acc.item()/len(train_list)*100\n",
    "  losses.append(loss)\n",
    "  accuracies.append(accuracy)\n",
    "  print('Epoch: {} \\tStep: {} \\tLoss: {:.4f} \\tAcc: {}'.format(epoch + 1, total_steps, loss, accuracy))\n",
    "  writer.add_scalar('loss', loss, total_steps)\n",
    "  writer.add_scalar('accuracy', accuracy, total_steps)\n"
   ]
  },
  {
   "cell_type": "code",
   "execution_count": 20,
   "metadata": {},
   "outputs": [
    {
     "data": {
      "image/png": "[encoded data removed]",
      "text/plain": [
       "<Figure size 640x480 with 1 Axes>"
      ]
     },
     "metadata": {},
     "output_type": "display_data"
    }
   ],
   "source": [
    "import matplotlib.pyplot as plt\n",
    "plt.plot(losses)\n",
    "plt.title(\"training loss\")\n",
    "plt.savefig(\"/home/kovan2/Desktop/ser/mapped_train_loss.png\")"
   ]
  },
  {
   "cell_type": "code",
   "execution_count": 21,
   "metadata": {},
   "outputs": [
    {
     "data": {
      "image/png": "[encoded data removed]",
      "text/plain": [
       "<Figure size 640x480 with 1 Axes>"
      ]
     },
     "metadata": {},
     "output_type": "display_data"
    }
   ],
   "source": [
    "plt.plot(accuracies)\n",
    "plt.title(\"training accuracy\")\n",
    "plt.savefig(\"/home/kovan2/Desktop/ser/mapped_train_acc.png\")"
   ]
  },
  {
   "cell_type": "markdown",
   "metadata": {
    "colab_type": "text",
    "id": "ytSK9YJdzDh2"
   },
   "source": [
    "***save and load the model***"
   ]
  },
  {
   "cell_type": "code",
   "execution_count": 22,
   "metadata": {
    "colab": {},
    "colab_type": "code",
    "id": "GyEVoGs-zHZm"
   },
   "outputs": [
    {
     "data": {
      "text/plain": [
       "ModifiedAlexNet(\n",
       "  (features): Sequential(\n",
       "    (0): Conv2d(3, 64, kernel_size=(11, 11), stride=(4, 4), padding=(2, 2))\n",
       "    (1): ReLU(inplace=True)\n",
       "    (2): MaxPool2d(kernel_size=3, stride=2, padding=0, dilation=1, ceil_mode=False)\n",
       "    (3): Conv2d(64, 192, kernel_size=(5, 5), stride=(1, 1), padding=(2, 2))\n",
       "    (4): ReLU(inplace=True)\n",
       "    (5): MaxPool2d(kernel_size=3, stride=2, padding=0, dilation=1, ceil_mode=False)\n",
       "    (6): Conv2d(192, 384, kernel_size=(3, 3), stride=(1, 1), padding=(1, 1))\n",
       "    (7): ReLU(inplace=True)\n",
       "    (8): Conv2d(384, 256, kernel_size=(3, 3), stride=(1, 1), padding=(1, 1))\n",
       "    (9): ReLU(inplace=True)\n",
       "    (10): Conv2d(256, 256, kernel_size=(3, 3), stride=(1, 1), padding=(1, 1))\n",
       "    (11): ReLU(inplace=True)\n",
       "    (12): MaxPool2d(kernel_size=3, stride=2, padding=0, dilation=1, ceil_mode=False)\n",
       "  )\n",
       "  (classifier): Sequential(\n",
       "    (0): Dropout(p=0.5, inplace=False)\n",
       "    (1): Linear(in_features=256, out_features=4, bias=True)\n",
       "  )\n",
       "  (softmax): Softmax(dim=1)\n",
       ")"
      ]
     },
     "execution_count": 22,
     "metadata": {},
     "output_type": "execute_result"
    }
   ],
   "source": [
    "torch.save(modifiedAlexNet, '/home/kovan2/Desktop/ser/mapped_spec_model.pt')\n",
    "model=torch.load('/home/kovan2/Desktop/ser/mapped_spec_model.pt')\n",
    "model.eval()\n",
    "model.to('cpu')"
   ]
  },
  {
   "cell_type": "markdown",
   "metadata": {
    "colab_type": "text",
    "id": "GfuJ5F0cysjU"
   },
   "source": [
    "***testing lopp***"
   ]
  },
  {
   "cell_type": "code",
   "execution_count": 23,
   "metadata": {
    "colab": {},
    "colab_type": "code",
    "id": "QYbcOfizywFG"
   },
   "outputs": [],
   "source": [
    "y_actu=[]\n",
    "y_pred=[]\n",
    "for every_test_list in test_list:\n",
    "    label1=every_test_list['label']\n",
    "    label1=torch.tensor([label1])\n",
    "    sprectrome=every_test_list['sprectrome']\n",
    "    with torch.no_grad():\n",
    "      if(sprectrome.shape[2]>65):\n",
    "        #sprectrome = sprectrome.to('cuda')\n",
    "        #label1=label1.to('cuda')\n",
    "        output = model(sprectrome)\n",
    "        _, preds = torch.max(output, 1)\n",
    "        y_actu.append(label1.numpy()[0])\n",
    "        y_pred.append(preds.numpy()[0])"
   ]
  },
  {
   "cell_type": "markdown",
   "metadata": {
    "colab_type": "text",
    "id": "kNAdE3fQ3z8v"
   },
   "source": [
    "***confusionMatrix***"
   ]
  },
  {
   "cell_type": "code",
   "execution_count": 26,
   "metadata": {
    "colab": {},
    "colab_type": "code",
    "id": "ueItzxt432pq"
   },
   "outputs": [
    {
     "name": "stdout",
     "output_type": "stream",
     "text": [
      "[[169  54  21  54]\n",
      " [ 80  43  10  29]\n",
      " [ 18   4  58  24]\n",
      " [ 51  24  15  68]]\n"
     ]
    }
   ],
   "source": [
    "from sklearn.metrics import confusion_matrix, ConfusionMatrixDisplay\n",
    "cm=confusion_matrix(y_actu, y_pred)\n",
    "print(cm)"
   ]
  },
  {
   "cell_type": "code",
   "execution_count": 27,
   "metadata": {},
   "outputs": [
    {
     "data": {
      "image/png": "[encoded data removed]",
      "text/plain": [
       "<Figure size 640x480 with 2 Axes>"
      ]
     },
     "metadata": {},
     "output_type": "display_data"
    },
    {
     "data": {
      "text/plain": [
       "<Figure size 640x480 with 0 Axes>"
      ]
     },
     "metadata": {},
     "output_type": "display_data"
    }
   ],
   "source": [
    "disp=ConfusionMatrixDisplay(confusion_matrix=cm,display_labels=[\"angry\",\"happy\",\"sad\",\"neutral\"])\n",
    "disp.plot()\n",
    "plt.show()\n",
    "plt.savefig('/home/kovan2/Desktop/ser/mapped_conf_mat.png')"
   ]
  },
  {
   "cell_type": "code",
   "execution_count": 28,
   "metadata": {},
   "outputs": [
    {
     "name": "stdout",
     "output_type": "stream",
     "text": [
      "Test accuracy: 45.12683578104139\n",
      "[0, 0, 1, 3, 1, 3, 3, 3, 0, 3, 0, 3, 0, 0, 2, 0, 0, 0, 3, 1, 0, 0, 3, 0, 2, 0, 0, 2, 0, 2, 1, 3, 0, 2, 2, 2, 1, 3, 2, 0, 0, 1, 3, 2, 1, 0, 1, 0, 0, 0, 1, 1, 1, 0, 0, 3, 0, 0, 0, 2, 3, 1, 0, 0, 2, 3, 0, 2, 1, 0, 1, 0, 2, 1, 2, 0, 0, 1, 1, 1, 1, 0, 3, 0, 0, 0, 0, 0, 3, 0, 3, 1, 1, 3, 1, 0, 2, 2, 2, 0, 0, 1, 0, 0, 3, 1, 0, 0, 3, 0, 3, 0, 3, 3, 2, 1, 3, 0, 2, 0, 3, 2, 1, 2, 1, 2, 0, 0, 1, 3, 2, 1, 2, 3, 2, 1, 1, 0, 3, 0, 2, 3, 1, 3, 1, 3, 1, 0, 0, 1, 0, 3, 3, 0, 1, 2, 1, 3, 1, 0, 2, 0, 1, 3, 0, 0, 1, 1, 0, 0, 0, 1, 3, 2, 0, 3, 2, 0, 2, 0, 0, 0, 0, 3, 3, 0, 2, 0, 0, 2, 3, 1, 2, 0, 0, 1, 2, 0, 0, 1, 1, 0, 3, 2, 0, 0, 0, 0, 0, 3, 0, 0, 0, 1, 0, 2, 1, 0, 0, 3, 0, 3, 0, 2, 0, 2, 0, 0, 0, 0, 0, 0, 1, 2, 3, 1, 0, 3, 3, 3, 3, 0, 0, 2, 0, 3, 0, 0, 3, 0, 0, 2, 0, 0, 0, 0, 0, 2, 0, 0, 1, 1, 3, 2, 2, 3, 3, 0, 0, 3, 0, 3, 1, 3, 0, 0, 0, 1, 3, 0, 1, 2, 0, 3, 2, 3, 0, 1, 1, 0, 0, 1, 0, 1, 0, 0, 3, 0, 0, 0, 1, 1, 3, 0, 0, 1, 2, 0, 0, 0, 1, 0, 1, 3, 0, 0, 0, 2, 0, 1, 1, 2, 0, 0, 2, 1, 0, 3, 2, 1, 0, 0, 0, 0, 3, 3, 3, 0, 0, 3, 0, 0, 3, 0, 3, 1, 3, 0, 0, 3, 0, 0, 0, 0, 2, 1, 1, 2, 3, 3, 0, 3, 3, 2, 0, 1, 3, 0, 1, 1, 1, 0, 0, 1, 3, 2, 1, 0, 0, 0, 0, 0, 2, 0, 0, 1, 3, 1, 3, 0, 0, 0, 0, 0, 0, 1, 1, 1, 1, 0, 1, 0, 1, 0, 1, 1, 2, 3, 2, 1, 0, 1, 2, 1, 1, 1, 3, 0, 0, 2, 3, 3, 2, 0, 1, 0, 1, 3, 0, 1, 0, 2, 3, 0, 1, 0, 3, 0, 3, 3, 3, 1, 1, 0, 2, 1, 1, 0, 0, 1, 1, 3, 0, 2, 2, 1, 1, 1, 0, 3, 3, 1, 0, 3, 2, 0, 3, 0, 0, 1, 3, 0, 0, 0, 2, 2, 0, 0, 2, 0, 0, 0, 2, 0, 0, 0, 0, 0, 1, 3, 3, 0, 2, 1, 1, 3, 0, 0, 2, 0, 0, 3, 0, 0, 0, 3, 3, 1, 3, 3, 3, 0, 0, 1, 1, 1, 3, 0, 1, 1, 1, 2, 0, 2, 1, 0, 2, 3, 1, 0, 0, 2, 0, 0, 0, 0, 1, 3, 3, 0, 0, 0, 0, 0, 1, 0, 1, 3, 2, 2, 1, 2, 3, 0, 1, 3, 0, 0, 0, 1, 1, 2, 0, 3, 0, 2, 1, 3, 2, 3, 3, 1, 3, 3, 3, 3, 3, 3, 1, 0, 2, 2, 0, 3, 0, 2, 1, 0, 0, 0, 0, 0, 1, 3, 1, 3, 3, 0, 3, 3, 1, 0, 0, 1, 0, 0, 1, 1, 0, 2, 3, 2, 0, 3, 1, 3, 0, 0, 0, 2, 3, 1, 3, 0, 3, 1, 3, 3, 2, 1, 1, 3, 2, 2, 2, 1, 3, 2, 1, 3, 0, 3, 1, 0, 0, 1, 2, 0, 0, 1, 0, 0, 1, 1, 2, 0, 0, 3, 2, 1, 3, 1, 0, 1, 3, 0, 1, 0, 0, 1, 3, 3, 2, 1, 0, 1, 1, 2, 3, 0, 0, 0, 0, 3, 3, 0, 3, 3, 3, 0, 1, 2, 0, 0, 0, 1, 0, 1, 0, 1, 0, 3, 2, 1, 0, 3, 2, 0, 3, 0, 3, 0, 3, 0, 2, 0, 2, 3, 3, 0, 0, 1] [3, 0, 0, 0, 0, 2, 3, 3, 3, 3, 0, 3, 0, 3, 2, 3, 1, 0, 2, 0, 0, 3, 1, 1, 3, 1, 0, 3, 0, 3, 2, 3, 3, 3, 3, 0, 0, 1, 2, 0, 0, 0, 0, 2, 0, 1, 2, 0, 0, 0, 1, 1, 3, 1, 0, 3, 1, 3, 0, 2, 0, 1, 0, 1, 3, 3, 3, 0, 1, 0, 0, 2, 3, 0, 0, 1, 0, 0, 0, 1, 2, 0, 1, 3, 1, 3, 0, 0, 3, 3, 3, 1, 0, 2, 3, 0, 2, 3, 2, 0, 0, 0, 0, 3, 3, 3, 2, 1, 0, 1, 3, 0, 3, 0, 0, 0, 0, 0, 2, 3, 3, 2, 1, 0, 3, 2, 0, 3, 3, 1, 2, 0, 2, 3, 2, 0, 1, 0, 3, 0, 2, 0, 0, 3, 0, 1, 0, 0, 0, 1, 1, 1, 1, 1, 0, 2, 0, 3, 1, 2, 3, 0, 1, 2, 0, 1, 0, 3, 0, 2, 0, 0, 0, 0, 2, 0, 2, 0, 2, 0, 0, 1, 0, 0, 2, 1, 0, 1, 0, 3, 1, 3, 3, 0, 3, 1, 2, 2, 2, 0, 1, 0, 0, 2, 0, 0, 1, 1, 0, 3, 1, 0, 0, 0, 0, 2, 3, 1, 3, 3, 0, 3, 0, 2, 0, 2, 0, 0, 0, 1, 0, 3, 0, 3, 3, 3, 1, 3, 0, 3, 0, 3, 1, 2, 3, 0, 0, 0, 3, 0, 0, 2, 1, 1, 3, 0, 0, 1, 1, 3, 3, 3, 0, 2, 2, 0, 3, 0, 1, 3, 3, 3, 1, 1, 0, 3, 2, 1, 1, 3, 0, 2, 0, 1, 0, 0, 0, 0, 0, 2, 0, 0, 0, 1, 0, 2, 0, 0, 0, 3, 0, 1, 3, 0, 1, 0, 3, 3, 0, 0, 1, 3, 3, 3, 0, 0, 0, 0, 0, 0, 3, 3, 0, 1, 2, 0, 3, 0, 2, 3, 0, 0, 3, 0, 3, 1, 3, 0, 2, 3, 2, 1, 3, 0, 3, 0, 2, 3, 1, 3, 0, 0, 0, 0, 2, 0, 0, 0, 3, 0, 0, 0, 1, 3, 0, 0, 1, 3, 1, 3, 3, 0, 2, 0, 3, 2, 1, 0, 3, 0, 0, 3, 2, 0, 0, 0, 3, 1, 0, 0, 1, 0, 0, 1, 1, 0, 1, 3, 0, 0, 0, 0, 0, 2, 0, 2, 2, 0, 2, 2, 0, 1, 2, 1, 1, 1, 0, 0, 0, 3, 1, 3, 2, 0, 2, 3, 0, 0, 2, 0, 0, 0, 3, 1, 1, 0, 0, 0, 0, 3, 3, 3, 0, 2, 2, 0, 1, 2, 3, 0, 0, 2, 0, 0, 1, 0, 0, 0, 0, 1, 3, 0, 1, 2, 3, 3, 0, 3, 1, 3, 0, 3, 0, 1, 0, 0, 0, 1, 0, 0, 2, 0, 2, 0, 0, 0, 1, 0, 1, 0, 0, 0, 2, 3, 0, 3, 0, 0, 3, 3, 3, 3, 0, 0, 3, 1, 0, 0, 3, 1, 3, 0, 0, 1, 0, 0, 3, 1, 1, 0, 0, 2, 0, 2, 0, 0, 2, 3, 0, 2, 3, 2, 1, 0, 2, 3, 3, 3, 0, 0, 3, 2, 0, 1, 0, 0, 1, 0, 2, 3, 3, 2, 0, 1, 0, 0, 0, 1, 1, 1, 1, 0, 0, 0, 1, 2, 3, 1, 2, 3, 0, 0, 2, 0, 3, 3, 0, 0, 3, 0, 2, 2, 3, 2, 0, 2, 0, 0, 1, 3, 0, 0, 0, 0, 2, 3, 0, 0, 2, 3, 1, 0, 0, 1, 0, 0, 0, 1, 0, 3, 3, 2, 0, 1, 1, 1, 0, 3, 0, 1, 2, 0, 3, 3, 3, 0, 3, 0, 2, 0, 1, 0, 0, 2, 2, 0, 0, 2, 2, 1, 0, 2, 0, 1, 0, 2, 0, 0, 0, 3, 3, 0, 0, 0, 1, 1, 1, 3, 3, 3, 3, 0, 0, 0, 1, 0, 3, 3, 3, 0, 2, 0, 3, 3, 0, 3, 1, 2, 3, 0, 1, 0, 0, 2, 3, 0, 3, 0, 3, 0, 2, 2, 3, 0, 0, 1, 0, 1, 0, 0, 0, 3, 3, 1, 0, 0, 2, 0, 0, 3, 1, 3, 0, 1, 2, 0, 3, 3, 3, 0, 0, 0]\n"
     ]
    }
   ],
   "source": [
    "score=0.0\n",
    "for i in range(len(y_actu)):\n",
    "    if y_actu[i]==y_pred[i]:\n",
    "        score+=1.0\n",
    "print(\"Test accuracy:\",(score/len(test_list))*100)\n",
    "print(y_actu,y_pred)"
   ]
  },
  {
   "cell_type": "code",
   "execution_count": null,
   "metadata": {},
   "outputs": [],
   "source": []
  }
 ],
 "metadata": {
  "accelerator": "GPU",
  "colab": {
   "collapsed_sections": [],
   "name": "GitAudioEmotion.ipynb",
   "provenance": []
  },
  "kernelspec": {
   "display_name": "Python 3.8.13 ('emotion')",
   "language": "python",
   "name": "python3"
  },
  "language_info": {
   "codemirror_mode": {
    "name": "ipython",
    "version": 3
   },
   "file_extension": ".py",
   "mimetype": "text/x-python",
   "name": "python",
   "nbconvert_exporter": "python",
   "pygments_lexer": "ipython3",
   "version": "3.8.13"
  },
  "vscode": {
   "interpreter": {
    "hash": "8e252d41f907997c6e8a34617e909fc3ae2ca657778ca7dd74e96e177de89c5f"
   }
  }
 },
 "nbformat": 4,
 "nbformat_minor": 1
}
